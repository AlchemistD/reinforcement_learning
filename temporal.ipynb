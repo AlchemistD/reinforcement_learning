{
 "cells": [
  {
   "cell_type": "code",
   "execution_count": null,
   "id": "36daad7e-c6bb-441f-a228-c3f6516f5bf7",
   "metadata": {},
   "outputs": [],
   "source": []
  },
  {
   "cell_type": "code",
   "execution_count": 1,
   "id": "65535810-d13c-4908-8410-1d0fc887a4d4",
   "metadata": {},
   "outputs": [],
   "source": [
    "\n",
    "import numpy as np\n"
   ]
  },
  {
   "cell_type": "code",
   "execution_count": 4,
   "id": "cb25641d-e8d2-4727-9d32-cb9571af25d3",
   "metadata": {},
   "outputs": [
    {
     "data": {
      "text/plain": [
       "(100, 50)"
      ]
     },
     "execution_count": 4,
     "metadata": {},
     "output_type": "execute_result"
    }
   ],
   "source": [
    "\n",
    "m1 = np.random.rand(100, 50)\n",
    "m2 = np.random.rand(50)\n",
    "m2 = np.expand_dims(m2, 0)\n",
    "\n",
    "(m1*m2).shape\n"
   ]
  },
  {
   "cell_type": "code",
   "execution_count": 6,
   "id": "2bb63bd9-d316-4e3a-8fd1-1954a209b98c",
   "metadata": {},
   "outputs": [
    {
     "data": {
      "text/plain": [
       "True"
      ]
     },
     "execution_count": 6,
     "metadata": {},
     "output_type": "execute_result"
    }
   ],
   "source": [
    "\n",
    "tt = (1, 2)\n",
    "\n",
    "hist = set([])\n",
    "\n",
    "hist.add(tt)\n",
    "\n",
    "tt in hist\n"
   ]
  },
  {
   "cell_type": "code",
   "execution_count": null,
   "id": "56352fad-1862-4b93-b965-8fc544260eab",
   "metadata": {},
   "outputs": [],
   "source": []
  }
 ],
 "metadata": {
  "kernelspec": {
   "display_name": "llm",
   "language": "python",
   "name": "llm"
  },
  "language_info": {
   "codemirror_mode": {
    "name": "ipython",
    "version": 3
   },
   "file_extension": ".py",
   "mimetype": "text/x-python",
   "name": "python",
   "nbconvert_exporter": "python",
   "pygments_lexer": "ipython3",
   "version": "3.10.0"
  }
 },
 "nbformat": 4,
 "nbformat_minor": 5
}
